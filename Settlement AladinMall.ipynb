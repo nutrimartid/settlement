{
 "cells": [
  {
   "cell_type": "code",
   "execution_count": 1,
   "metadata": {
    "scrolled": true,
    "tags": []
   },
   "outputs": [
    {
     "name": "stdout",
     "output_type": "stream",
     "text": [
      "D:\\1. Masterdata\\Clean Data/data_all_23 May With Order Online.csv\n"
     ]
    },
    {
     "name": "stderr",
     "output_type": "stream",
     "text": [
      "C:\\Users\\timotius.giovandi\\AppData\\Local\\Programs\\Python\\Python37\\lib\\site-packages\\IPython\\core\\interactiveshell.py:3170: DtypeWarning: Columns (12,15,20,24,25,27,29,30,31,32,33,34,35,36,37,39,53,54,57,59,60,66,67,73,74,80,81,87,88,94,95,101,102,108,122,123,134,135,136,153,159,161,167,168,169,172,173,174,175,176,180,181,183,196,197,198,199,200,201) have mixed types.Specify dtype option on import or set low_memory=False.\n",
      "  interactivity=interactivity, compiler=compiler, result=result)\n"
     ]
    },
    {
     "name": "stdout",
     "output_type": "stream",
     "text": [
      "['L-Men Store Blibli' 'Nutrimart' 'Tokopedia' 'Shopee' 'FBL' 'Blibli'\n",
      " 'TikTok' 'Lazada' 'JD Indonesia' 'Bukalapak' 'Aladin Mall'\n",
      " 'Order Online Surabaya' 'Order Online Sumsel' 'Order Online Jateng'\n",
      " 'Order Online Bali' 'Order Online Medan' 'Order Online Lampung'\n",
      " 'Order Online Pekanbaru' 'Order Online Jabar' 'Order Online Makassar'\n",
      " 'Order Online Samarinda' 'Order Online Banjarmasin' 'Orami Shopping'\n",
      " 'GENERAL' 'GARUDA TIMUR PACIFIC, PT' 'SHOPEE INTERNATIONAL INDONESIA, PT'\n",
      " 'TANI SUPPLY INDONESIA, PT' 'WICAKSANA OVERSEAS INDONESIA, PT'\n",
      " 'RITEL BERSAMA NASIONAL, PT' 'WARUNG PINTAR DISTRIBUSI, PT'\n",
      " 'ENSEVAL PUTERA MEGATRADING TBK, PT' 'TEMPO, PT' 'KREASI TANI LAKSMI, PT'\n",
      " 'BINTANG ASET INDONESIA, PT' 'CHILIBELI BAGUS INDONESIA, PT'\n",
      " 'NATA GERAI ERABARU, PT' 'KONEKSI NIAGA SOLUSINDO, PT'\n",
      " 'PASKOMNAS NIAGA UTAMA, PT' 'RITEL BERSAMA NASIONAL'\n",
      " 'ENSEVAL PUTERA MEGATRD' 'ASTRO TECHNOLOGIES, PT' 'ECOM RETAIL - ASTRO'\n",
      " 'ECOM RETAIL - BAYI NINJA' 'ECOM RETAIL - JD ID'\n",
      " 'ECOM RETAIL - SAYUR BOX' 'ECOM RETAIL - EMOS' 'ECOM RETAIL - LIFEPACK'\n",
      " nan 'ECOM RETAIL - SWIFT'\n",
      " 'ECOM RETAIL - INDOPASIFIK FARMA MEDIKA INDONESIA'\n",
      " 'ECOM RETAIL - TOKO NOW' 'ECOM RETAIL - JOYBOX(COSMART)'\n",
      " 'ECOM RETAIL - FRESHBOX']\n"
     ]
    },
    {
     "name": "stderr",
     "output_type": "stream",
     "text": [
      "C:\\Users\\timotius.giovandi\\AppData\\Local\\Programs\\Python\\Python37\\lib\\site-packages\\ipykernel_launcher.py:35: SettingWithCopyWarning: \n",
      "A value is trying to be set on a copy of a slice from a DataFrame.\n",
      "Try using .loc[row_indexer,col_indexer] = value instead\n",
      "\n",
      "See the caveats in the documentation: https://pandas.pydata.org/pandas-docs/stable/user_guide/indexing.html#returning-a-view-versus-a-copy\n",
      "C:\\Users\\timotius.giovandi\\AppData\\Local\\Programs\\Python\\Python37\\lib\\site-packages\\ipykernel_launcher.py:36: SettingWithCopyWarning: \n",
      "A value is trying to be set on a copy of a slice from a DataFrame.\n",
      "Try using .loc[row_indexer,col_indexer] = value instead\n",
      "\n",
      "See the caveats in the documentation: https://pandas.pydata.org/pandas-docs/stable/user_guide/indexing.html#returning-a-view-versus-a-copy\n",
      "C:\\Users\\timotius.giovandi\\AppData\\Local\\Programs\\Python\\Python37\\lib\\site-packages\\ipykernel_launcher.py:37: SettingWithCopyWarning: \n",
      "A value is trying to be set on a copy of a slice from a DataFrame.\n",
      "Try using .loc[row_indexer,col_indexer] = value instead\n",
      "\n",
      "See the caveats in the documentation: https://pandas.pydata.org/pandas-docs/stable/user_guide/indexing.html#returning-a-view-versus-a-copy\n",
      "C:\\Users\\timotius.giovandi\\AppData\\Local\\Programs\\Python\\Python37\\lib\\site-packages\\ipykernel_launcher.py:38: SettingWithCopyWarning: \n",
      "A value is trying to be set on a copy of a slice from a DataFrame.\n",
      "Try using .loc[row_indexer,col_indexer] = value instead\n",
      "\n",
      "See the caveats in the documentation: https://pandas.pydata.org/pandas-docs/stable/user_guide/indexing.html#returning-a-view-versus-a-copy\n",
      "C:\\Users\\timotius.giovandi\\AppData\\Local\\Programs\\Python\\Python37\\lib\\site-packages\\ipykernel_launcher.py:39: SettingWithCopyWarning: \n",
      "A value is trying to be set on a copy of a slice from a DataFrame.\n",
      "Try using .loc[row_indexer,col_indexer] = value instead\n",
      "\n",
      "See the caveats in the documentation: https://pandas.pydata.org/pandas-docs/stable/user_guide/indexing.html#returning-a-view-versus-a-copy\n"
     ]
    },
    {
     "name": "stdout",
     "output_type": "stream",
     "text": [
      "sku tatanama\n",
      "sku tatanama done\n"
     ]
    },
    {
     "name": "stderr",
     "output_type": "stream",
     "text": [
      "C:\\Users\\timotius.giovandi\\AppData\\Local\\Programs\\Python\\Python37\\lib\\site-packages\\ipykernel_launcher.py:96: SettingWithCopyWarning: \n",
      "A value is trying to be set on a copy of a slice from a DataFrame\n",
      "\n",
      "See the caveats in the documentation: https://pandas.pydata.org/pandas-docs/stable/user_guide/indexing.html#returning-a-view-versus-a-copy\n",
      "C:\\Users\\timotius.giovandi\\AppData\\Local\\Programs\\Python\\Python37\\lib\\site-packages\\pandas\\core\\indexing.py:670: SettingWithCopyWarning: \n",
      "A value is trying to be set on a copy of a slice from a DataFrame\n",
      "\n",
      "See the caveats in the documentation: https://pandas.pydata.org/pandas-docs/stable/user_guide/indexing.html#returning-a-view-versus-a-copy\n",
      "  iloc._setitem_with_indexer(indexer, value)\n",
      "C:\\Users\\timotius.giovandi\\AppData\\Local\\Programs\\Python\\Python37\\lib\\site-packages\\ipykernel_launcher.py:99: SettingWithCopyWarning: \n",
      "A value is trying to be set on a copy of a slice from a DataFrame\n",
      "\n",
      "See the caveats in the documentation: https://pandas.pydata.org/pandas-docs/stable/user_guide/indexing.html#returning-a-view-versus-a-copy\n",
      "C:\\Users\\timotius.giovandi\\AppData\\Local\\Programs\\Python\\Python37\\lib\\site-packages\\ipykernel_launcher.py:100: SettingWithCopyWarning: \n",
      "A value is trying to be set on a copy of a slice from a DataFrame\n",
      "\n",
      "See the caveats in the documentation: https://pandas.pydata.org/pandas-docs/stable/user_guide/indexing.html#returning-a-view-versus-a-copy\n",
      "C:\\Users\\timotius.giovandi\\AppData\\Local\\Programs\\Python\\Python37\\lib\\site-packages\\ipykernel_launcher.py:101: SettingWithCopyWarning: \n",
      "A value is trying to be set on a copy of a slice from a DataFrame\n",
      "\n",
      "See the caveats in the documentation: https://pandas.pydata.org/pandas-docs/stable/user_guide/indexing.html#returning-a-view-versus-a-copy\n",
      "C:\\Users\\timotius.giovandi\\AppData\\Local\\Programs\\Python\\Python37\\lib\\site-packages\\ipykernel_launcher.py:104: SettingWithCopyWarning: \n",
      "A value is trying to be set on a copy of a slice from a DataFrame\n",
      "\n",
      "See the caveats in the documentation: https://pandas.pydata.org/pandas-docs/stable/user_guide/indexing.html#returning-a-view-versus-a-copy\n",
      "C:\\Users\\timotius.giovandi\\AppData\\Local\\Programs\\Python\\Python37\\lib\\site-packages\\ipykernel_launcher.py:105: SettingWithCopyWarning: \n",
      "A value is trying to be set on a copy of a slice from a DataFrame\n",
      "\n",
      "See the caveats in the documentation: https://pandas.pydata.org/pandas-docs/stable/user_guide/indexing.html#returning-a-view-versus-a-copy\n",
      "C:\\Users\\timotius.giovandi\\AppData\\Local\\Programs\\Python\\Python37\\lib\\site-packages\\ipykernel_launcher.py:106: SettingWithCopyWarning: \n",
      "A value is trying to be set on a copy of a slice from a DataFrame\n",
      "\n",
      "See the caveats in the documentation: https://pandas.pydata.org/pandas-docs/stable/user_guide/indexing.html#returning-a-view-versus-a-copy\n",
      "C:\\Users\\timotius.giovandi\\AppData\\Local\\Programs\\Python\\Python37\\lib\\site-packages\\ipykernel_launcher.py:113: SettingWithCopyWarning: \n",
      "A value is trying to be set on a copy of a slice from a DataFrame\n",
      "\n",
      "See the caveats in the documentation: https://pandas.pydata.org/pandas-docs/stable/user_guide/indexing.html#returning-a-view-versus-a-copy\n",
      "C:\\Users\\timotius.giovandi\\AppData\\Local\\Programs\\Python\\Python37\\lib\\site-packages\\ipykernel_launcher.py:117: SettingWithCopyWarning: \n",
      "A value is trying to be set on a copy of a slice from a DataFrame\n",
      "\n",
      "See the caveats in the documentation: https://pandas.pydata.org/pandas-docs/stable/user_guide/indexing.html#returning-a-view-versus-a-copy\n"
     ]
    }
   ],
   "source": [
    "### Run - 1 \n",
    "\n",
    "import pandas as pd\n",
    "import numpy as np\n",
    "import os\n",
    "import glob\n",
    "\n",
    "# list_of_files = glob.glob(r'D:\\Masterdata\\Clean Data/*.csv')\n",
    "# latest_file = max(list_of_files, key=os.path.getctime)\n",
    "\n",
    "list_of_files=os.listdir(r\"D:\\1. Masterdata\\Clean Data\")\n",
    "a=[r\"D:\\1. Masterdata\\Clean Data/\"+i for i in list_of_files]\n",
    "latest_file = max(a, key=os.path.getctime)\n",
    "print(latest_file)\n",
    "\n",
    "data_all = pd.read_csv(latest_file, sep = ';',converters = {'Phone' : str, 'Order #' : str, 'AWB' : str})\n",
    "\n",
    "print(data_all['Channel'].unique())\n",
    "\n",
    "j_conv = pd.read_excel(\"Settlement Project\\Rumus Realisasi.xlsx\", sheet_name = 'Paket Brand')\n",
    "j_conv = j_conv.iloc[:,:5]\n",
    "j_conv = j_conv.rename(columns = {'SKU' : 'Real SKU', 'SKU.1' : 'SKU Produk'})\n",
    "j_conv = j_conv[j_conv['Real SKU'].notnull()]\n",
    "j_conv['SKU Produk'] = j_conv['SKU Produk'].astype(str).str.replace('.0', '',regex = False)\n",
    "\n",
    "temp_all = data_all.copy()\n",
    "\n",
    "temp_all['Real SKU'] = temp_all['Real SKU'].astype(str)\n",
    "j_conv['Real SKU'] = j_conv['Real SKU'].astype(str)\n",
    "\n",
    "temp_all = temp_all.merge(j_conv, how = 'left', on = 'Real SKU')\n",
    "\n",
    "paket_j = temp_all[temp_all['SKU Produk'].notnull()]\n",
    "\n",
    "paket_j['Bundle Name'] = paket_j['Product Name']\n",
    "paket_j['Product Name'] = paket_j['Name']\n",
    "paket_j['SKU'] = paket_j['SKU Produk']\n",
    "paket_j['Qty. Invoiced'] = paket_j['Qty. Invoiced'] * paket_j['Konversi ke UOM'].astype(float)\n",
    "paket_j['Bundle Flag'] = np.nan\n",
    "\n",
    "import time\n",
    "import pandas as pd\n",
    "import numpy as np\n",
    "import math\n",
    "\n",
    "import smtplib \n",
    "from email.mime.text import MIMEText\n",
    "from email.mime.application import MIMEApplication\n",
    "from email.mime.multipart import MIMEMultipart\n",
    "from smtplib import SMTP\n",
    "import smtplib\n",
    "import sys\n",
    "import requests\n",
    "import os\n",
    "    \n",
    "print('sku tatanama')\n",
    "data_SKU = pd.read_excel(r\"D:\\1. Masterdata\\SKU_File\\data_SKU.xlsx\")\n",
    "\n",
    "s = requests.Session()\n",
    "s.get(\"https://tatanama.pythonanywhere.com\")\n",
    "s.post(\"https://tatanama.pythonanywhere.com\", data = {'username' : 'ecommerce', 'password' : 'ecommerce'})\n",
    "r = s.get(\"https://tatanama.pythonanywhere.com/download\")\n",
    "\n",
    "with open(r\"D:\\1. Masterdata\\SKU_File\\Master tatanama.xlsx\", 'wb') as output:\n",
    "    output.write(r.content)\n",
    "\n",
    "if os.path.isfile(r\"D:\\1. Masterdata\\SKU_File\\Master tatanama.xlsx\") :    \n",
    "    SKU_append = pd.read_excel(r\"D:\\1. Masterdata\\SKU_File\\Master tatanama.xlsx\")\n",
    "    SKU_append.columns = [x.replace('_', ' ') for x in SKU_append.columns]\n",
    "    data_SKU = data_SKU[~data_SKU['SKU'].astype(str).isin(SKU_append['SKU'].astype(str))]\n",
    "    data_SKU = data_SKU.append(SKU_append, ignore_index = True, sort = False)\n",
    "print('sku tatanama done')\n",
    "    \n",
    "data_SKU['Real SKU'] = data_SKU['SKU'].astype(str)\n",
    "data_SKU['Real Nama Produk'] = data_SKU['Nama Produk'].astype(str)\n",
    "data_SKU.loc[data_SKU['Price List NFI'].isin(['-']), 'Price List NFI'] = 0\n",
    "data_SKU['Price List NFI'] = data_SKU['Price List NFI'].astype(float).astype('int64')\n",
    "if 'Real SKU_y' in paket_j.columns:\n",
    "    paket_j = paket_j.drop('Real SKU_y', axis = 1)\n",
    "paket_j['SKU'] = paket_j['SKU'].astype(str)\n",
    "paket_j[['Real SKU', 'Real Nama Produk', 'Brand', 'Sub Brand', 'Parent Item', 'Parent SKU', 'Price List NFI']] = paket_j.merge(data_SKU[['Real SKU', 'Nama Produk', 'Brand', 'Sub Brand', 'Parent Item', 'Parent SKU', 'Price List NFI']].drop_duplicates(['Real SKU']), how = 'left', left_on = 'SKU', right_on = 'Real SKU').set_index(paket_j.index)[['Real SKU_y', 'Nama Produk', 'Brand_y', 'Sub Brand_y', 'Parent Item_y', 'Parent SKU_y', 'Price List NFI_y']]\n",
    "\n",
    "paket_j['Price List NFI']=paket_j['Price List NFI'].astype(int)\n",
    "paket_j['Total Net'] = paket_j['Price List NFI'] * paket_j['Qty. Invoiced']\n",
    "\n",
    "paket_j['Subtotal'] = paket_j['Subtotal'] * paket_j['Total Net']/paket_j.groupby(['Order #', 'Bundle Name'])['Total Net'].transform('sum')\n",
    "paket_j['Selling Price'] = paket_j['Subtotal']/paket_j['Qty. Invoiced']\n",
    "paket_j['Total'] = paket_j['Total'] * paket_j['Total Net']/paket_j.groupby(['Order #', 'Bundle Name'])['Total Net'].transform('sum')\n",
    "\n",
    "paket_j['Seller Discount'] = paket_j['Seller Discount'] * paket_j['Total Net']/paket_j.groupby(['Order #', 'Bundle Name'])['Total Net'].transform('sum')\n",
    "paket_j['Shipping'] = paket_j['Shipping'] * paket_j['Total Net']/paket_j.groupby(['Order #', 'Bundle Name'])['Total Net'].transform('sum')\n",
    "\n",
    "paket_j = paket_j.drop(['Nama Paket', 'SKU Produk', 'Name', 'Konversi ke UOM'], axis = 1)\n",
    "data_all = data_all.append(paket_j, ignore_index = True, sort = False)\n",
    "indeks = data_all[data_all['Product Name'].isin(paket_j['Bundle Name'])].index.to_list()\n",
    "data_all['Brand'][indeks] = 'Bundle'\n",
    "\n",
    "indeks = data_all[data_all['SKU'].astype(str) == '2152051'].index.to_list()\n",
    "data_all['SKU'][indeks] = '2152051110'\n",
    "data_all['Price List NFI'][indeks] = data_SKU[data_SKU['SKU'] == '2152051110']['Price List NFI'].values[0]\n",
    "data_all['Total Net'][indeks] = data_all['Price List NFI'][indeks] * data_all['Qty. Invoiced'][indeks]\n",
    "\n",
    "indeks = data_all[data_all['Real SKU'].astype(str) == '2152051'].index.to_list()\n",
    "data_all['Real SKU'][indeks] = '2152051110'\n",
    "data_all['Price List NFI'][indeks] = data_SKU[data_SKU['SKU'] == '2152051110']['Price List NFI'].values[0]\n",
    "data_all['Total Net'][indeks] = data_all['Price List NFI'][indeks] * data_all['Qty. Invoiced'][indeks]\n",
    "\n",
    "data_all['PL Before PPN'] = data_all['Price List NFI']/1.11\n",
    "data_all['Total Net Before PPN'] = data_all['PL Before PPN'] * data_all['Qty. Invoiced']\n",
    "\n",
    "indeks = data_all[(data_all['Real SKU'].astype(str).str.contains('^\\(B\\)')) &\n",
    "         ~(data_all['Brand'].isin(['Bonus Produk', 'Gimmick']))].index.to_list()\n",
    "data_all['Brand'][indeks] = 'Bonus Produk'\n",
    "\n",
    "indeks = data_all[(data_all['Real SKU'].astype(str).str.contains('^\\(U\\)')) &\n",
    "         ~(data_all['Brand'].isin(['Bonus Produk', 'Gimmick']))].index.to_list()\n",
    "data_all['Brand'][indeks] = 'Bonus Produk'\n",
    "\n",
    "aladin = data_all[\n",
    "    (data_all['Channel'] == 'Aladin Mall') &\n",
    "    (data_all['Year'] >= 2021) \n",
    "#     (data_all['True datetime'] < '2022-01-27')\n",
    "]"
   ]
  },
  {
   "cell_type": "code",
   "execution_count": 3,
   "metadata": {
    "tags": []
   },
   "outputs": [],
   "source": [
    "#Run - 2 ubah tanggal \n",
    "\n",
    "aladin = data_all[\n",
    "    (data_all['Channel'] == 'Aladin Mall') &\n",
    "    (data_all['Year'] > 2021) &\n",
    "    (data_all['True datetime'] < '2023-05-23')\n",
    "]"
   ]
  },
  {
   "cell_type": "code",
   "execution_count": 4,
   "metadata": {
    "tags": []
   },
   "outputs": [
    {
     "data": {
      "text/plain": [
       "'2023-04-26 18:35:00'"
      ]
     },
     "execution_count": 4,
     "metadata": {},
     "output_type": "execute_result"
    }
   ],
   "source": [
    "# optional\n",
    "\n",
    "pd.options.display.max_columns = 150\n",
    "aladin['True datetime'].max()"
   ]
  },
  {
   "cell_type": "code",
   "execution_count": 5,
   "metadata": {
    "scrolled": true,
    "tags": []
   },
   "outputs": [],
   "source": [
    "del(data_all)"
   ]
  },
  {
   "cell_type": "code",
   "execution_count": null,
   "metadata": {},
   "outputs": [],
   "source": []
  },
  {
   "cell_type": "markdown",
   "metadata": {},
   "source": [
    "# Selcen Gaada"
   ]
  },
  {
   "cell_type": "markdown",
   "metadata": {},
   "source": [
    "# WMS"
   ]
  },
  {
   "cell_type": "code",
   "execution_count": 6,
   "metadata": {
    "tags": []
   },
   "outputs": [],
   "source": [
    "## run - 3\n",
    "for_wms = aladin.copy()"
   ]
  },
  {
   "cell_type": "code",
   "execution_count": null,
   "metadata": {},
   "outputs": [],
   "source": []
  },
  {
   "cell_type": "code",
   "execution_count": 7,
   "metadata": {
    "tags": []
   },
   "outputs": [],
   "source": [
    "## run -4\n",
    "\n",
    "import pandas as pd\n",
    "import numpy as np\n",
    "import pypyodbc\n",
    "\n",
    "conn = pypyodbc.connect('Driver={SQL Server};'\n",
    "                        'Server=NFI-DB-01;'\n",
    "                        'Database=gudang;'\n",
    "                        # 'UID=kelvin.oktavian;'\n",
    "                        # 'PWD=24nutrifoodindonesia22;'\n",
    "                         'Trusted_Connection=yes;'\n",
    "                       )\n",
    "\n",
    "cursor = conn.cursor()\n",
    "wms_telkom = pd.read_sql(r\"\"\"SELECT t1.id, t1.order_id,t1.status, t1.quantity, t1.product_id, t2.id,  t2.order_number, t2.invoice_number, t2.channel, t2.order_date, t3.id, t3.sku, t3.name\n",
    "  FROM [gudang].[dbo].[outbound_items] as t1\n",
    "  left join orders as t2\n",
    "  on t1.order_id = t2.id\n",
    "  left join products as t3\n",
    "  on t1.product_id = t3.id\n",
    "  \"\"\", conn)"
   ]
  },
  {
   "cell_type": "code",
   "execution_count": 6,
   "metadata": {
    "tags": []
   },
   "outputs": [],
   "source": [
    "## run -4 alternative\n",
    "\n",
    "wms_telkom=pd.read_excel(r\"D:\\6. settlement\\Code\\Settlement Project\\Manual\\backup wms\\data_wms_telkom 21 Apr 2023.xlsx\")"
   ]
  },
  {
   "cell_type": "code",
   "execution_count": null,
   "metadata": {
    "scrolled": true
   },
   "outputs": [],
   "source": []
  },
  {
   "cell_type": "code",
   "execution_count": null,
   "metadata": {
    "scrolled": true
   },
   "outputs": [],
   "source": []
  },
  {
   "cell_type": "code",
   "execution_count": 8,
   "metadata": {
    "tags": []
   },
   "outputs": [],
   "source": [
    "## run-5\n",
    "for_wms['Order #'] = for_wms['Order #'].astype(str).str.replace('-1', '', regex = False)"
   ]
  },
  {
   "cell_type": "code",
   "execution_count": 9,
   "metadata": {
    "tags": []
   },
   "outputs": [],
   "source": [
    "## run-6\n",
    "for_wms['Order #'] = for_wms['Order #'].astype(str).str.replace('-2', '', regex = False)"
   ]
  },
  {
   "cell_type": "code",
   "execution_count": null,
   "metadata": {},
   "outputs": [],
   "source": []
  },
  {
   "cell_type": "code",
   "execution_count": 10,
   "metadata": {
    "tags": []
   },
   "outputs": [],
   "source": [
    "## for backup\n",
    "wms_telkom_cp = wms_telkom.copy()"
   ]
  },
  {
   "cell_type": "code",
   "execution_count": 10,
   "metadata": {
    "tags": []
   },
   "outputs": [],
   "source": [
    "## for backup\n",
    "wms_telkom=wms_telkom_cp.copy()"
   ]
  },
  {
   "cell_type": "code",
   "execution_count": null,
   "metadata": {},
   "outputs": [],
   "source": []
  },
  {
   "cell_type": "code",
   "execution_count": 11,
   "metadata": {
    "scrolled": true,
    "tags": []
   },
   "outputs": [
    {
     "name": "stderr",
     "output_type": "stream",
     "text": [
      "C:\\Users\\timotius.giovandi\\AppData\\Local\\Programs\\Python\\Python37\\lib\\site-packages\\ipykernel_launcher.py:56: SettingWithCopyWarning: \n",
      "A value is trying to be set on a copy of a slice from a DataFrame.\n",
      "Try using .loc[row_indexer,col_indexer] = value instead\n",
      "\n",
      "See the caveats in the documentation: https://pandas.pydata.org/pandas-docs/stable/user_guide/indexing.html#returning-a-view-versus-a-copy\n",
      "C:\\Users\\timotius.giovandi\\AppData\\Local\\Programs\\Python\\Python37\\lib\\site-packages\\ipykernel_launcher.py:59: SettingWithCopyWarning: \n",
      "A value is trying to be set on a copy of a slice from a DataFrame.\n",
      "Try using .loc[row_indexer,col_indexer] = value instead\n",
      "\n",
      "See the caveats in the documentation: https://pandas.pydata.org/pandas-docs/stable/user_guide/indexing.html#returning-a-view-versus-a-copy\n",
      "C:\\Users\\timotius.giovandi\\AppData\\Local\\Programs\\Python\\Python37\\lib\\site-packages\\ipykernel_launcher.py:77: SettingWithCopyWarning: \n",
      "A value is trying to be set on a copy of a slice from a DataFrame\n",
      "\n",
      "See the caveats in the documentation: https://pandas.pydata.org/pandas-docs/stable/user_guide/indexing.html#returning-a-view-versus-a-copy\n",
      "C:\\Users\\timotius.giovandi\\AppData\\Local\\Programs\\Python\\Python37\\lib\\site-packages\\pandas\\core\\indexing.py:670: SettingWithCopyWarning: \n",
      "A value is trying to be set on a copy of a slice from a DataFrame\n",
      "\n",
      "See the caveats in the documentation: https://pandas.pydata.org/pandas-docs/stable/user_guide/indexing.html#returning-a-view-versus-a-copy\n",
      "  iloc._setitem_with_indexer(indexer, value)\n",
      "C:\\Users\\timotius.giovandi\\AppData\\Local\\Programs\\Python\\Python37\\lib\\site-packages\\ipykernel_launcher.py:78: SettingWithCopyWarning: \n",
      "A value is trying to be set on a copy of a slice from a DataFrame\n",
      "\n",
      "See the caveats in the documentation: https://pandas.pydata.org/pandas-docs/stable/user_guide/indexing.html#returning-a-view-versus-a-copy\n",
      "C:\\Users\\timotius.giovandi\\AppData\\Local\\Programs\\Python\\Python37\\lib\\site-packages\\ipykernel_launcher.py:79: SettingWithCopyWarning: \n",
      "A value is trying to be set on a copy of a slice from a DataFrame\n",
      "\n",
      "See the caveats in the documentation: https://pandas.pydata.org/pandas-docs/stable/user_guide/indexing.html#returning-a-view-versus-a-copy\n",
      "C:\\Users\\timotius.giovandi\\AppData\\Local\\Programs\\Python\\Python37\\lib\\site-packages\\ipykernel_launcher.py:114: SettingWithCopyWarning: \n",
      "A value is trying to be set on a copy of a slice from a DataFrame\n",
      "\n",
      "See the caveats in the documentation: https://pandas.pydata.org/pandas-docs/stable/user_guide/indexing.html#returning-a-view-versus-a-copy\n",
      "C:\\Users\\timotius.giovandi\\AppData\\Local\\Programs\\Python\\Python37\\lib\\site-packages\\ipykernel_launcher.py:115: SettingWithCopyWarning: \n",
      "A value is trying to be set on a copy of a slice from a DataFrame\n",
      "\n",
      "See the caveats in the documentation: https://pandas.pydata.org/pandas-docs/stable/user_guide/indexing.html#returning-a-view-versus-a-copy\n",
      "C:\\Users\\timotius.giovandi\\AppData\\Local\\Programs\\Python\\Python37\\lib\\site-packages\\ipykernel_launcher.py:116: SettingWithCopyWarning: \n",
      "A value is trying to be set on a copy of a slice from a DataFrame\n",
      "\n",
      "See the caveats in the documentation: https://pandas.pydata.org/pandas-docs/stable/user_guide/indexing.html#returning-a-view-versus-a-copy\n",
      "C:\\Users\\timotius.giovandi\\AppData\\Local\\Programs\\Python\\Python37\\lib\\site-packages\\ipykernel_launcher.py:118: SettingWithCopyWarning: \n",
      "A value is trying to be set on a copy of a slice from a DataFrame\n",
      "\n",
      "See the caveats in the documentation: https://pandas.pydata.org/pandas-docs/stable/user_guide/indexing.html#returning-a-view-versus-a-copy\n",
      "C:\\Users\\timotius.giovandi\\AppData\\Local\\Programs\\Python\\Python37\\lib\\site-packages\\ipykernel_launcher.py:119: SettingWithCopyWarning: \n",
      "A value is trying to be set on a copy of a slice from a DataFrame\n",
      "\n",
      "See the caveats in the documentation: https://pandas.pydata.org/pandas-docs/stable/user_guide/indexing.html#returning-a-view-versus-a-copy\n",
      "C:\\Users\\timotius.giovandi\\AppData\\Local\\Programs\\Python\\Python37\\lib\\site-packages\\ipykernel_launcher.py:120: SettingWithCopyWarning: \n",
      "A value is trying to be set on a copy of a slice from a DataFrame\n",
      "\n",
      "See the caveats in the documentation: https://pandas.pydata.org/pandas-docs/stable/user_guide/indexing.html#returning-a-view-versus-a-copy\n"
     ]
    }
   ],
   "source": [
    "## run-7\n",
    "\n",
    "# import pandas as pd\n",
    "# import numpy as np\n",
    "# import pypyodbc\n",
    "\n",
    "# conn = pypyodbc.connect('Driver={SQL Server};'\n",
    "#                 'Server=NFI-DB-01;'\n",
    "#                 'Database=gudang;'\n",
    "#                 'UID=andra.miftah;'\n",
    "#                 'PWD=24nutrifoodindonesia21;'\n",
    "#                 )\n",
    "\n",
    "# cursor = conn.cursor()\n",
    "# wms_telkom = pd.read_sql(r\"\"\"SELECT t1.id, t1.order_id,t1.status, t1.quantity, t1.product_id, t2.id,  t2.order_number, t2.invoice_number, t2.channel, t2.order_date, t3.id, t3.sku, t3.name\n",
    "#   FROM [gudang].[dbo].[outbound_items] as t1\n",
    "#   left join orders as t2\n",
    "#   on t1.order_id = t2.id\n",
    "#   left join products as t3\n",
    "#   on t1.product_id = t3.id\n",
    "#   where t2.channel = 'Aladin Mall'\"\"\", conn)\n",
    "\n",
    "wms_telkom = wms_telkom[wms_telkom['channel'] == 'Aladin Mall']\n",
    "wms_telkom.loc[wms_telkom['invoice_number'].isnull(),'invoice_number']=wms_telkom['order_number'] #### tambahan timo 27 Juli 2022\n",
    "\n",
    "# outbound_items = pd.read_csv(r'Backup Gudang 4 Sept 2021 Gudang Baru/outbound_items.csv', sep = ';')\n",
    "# orders = pd.read_csv(r'Backup Gudang 4 Sept 2021 Gudang Baru/orders.csv', sep = ';')\n",
    "# products = pd.read_csv(r'Backup Gudang 4 Sept 2021 Gudang Baru/products.csv', sep = ';')\n",
    "\n",
    "# wms_telkom2 = outbound_items[['id', 'order_id','status', 'quantity', 'product_id']].merge(\n",
    "#     orders[['id',  'order_number', 'invoice_number', 'channel', 'order_date']], how = 'left', left_on = 'order_id', right_on = 'id'\n",
    "# ).merge(\n",
    "#     products[['id', 'sku', 'name']], how = 'left', left_on = 'product_id', right_on = 'id'\n",
    "# )\n",
    "# wms_telkom2 = wms_telkom2[wms_telkom2['channel'].isin(['TikTok Commerce'])]\n",
    "# wms_telkom = wms_telkom[['invoice_number', 'sku', 'status', 'quantity']].drop_duplicates()\n",
    "# wms_telkom2 = wms_telkom2[['invoice_number', 'sku', 'status', 'quantity']].drop_duplicates()\n",
    "# wms_telkom = wms_telkom.append(wms_telkom2, ignore_index = True, sort = False)\n",
    "\n",
    "# wms_telkom = wms_telkom.groupby(['invoice_number', 'sku', 'status'])['quantity'].sum().reset_index()\n",
    "\n",
    "wms_telkom['WH'] = 'Telkom'\n",
    "wms_telkom = wms_telkom.rename(columns = {'invoice_number' : 'Order #', 'status':'SO STATUS', 'sku' : 'SKU WH', 'quantity' : 'Warehouse Quantity'})\n",
    "\n",
    "### tambahan timo nov 2022\n",
    "if 'STATUS' in wms_telkom.columns:\n",
    "    wms_telkom = wms_telkom.rename(columns = {'invoice_number' : 'Order #', 'STATUS':'SO STATUS', 'sku' : 'SKU WH', 'quantity' : 'Warehouse Quantity'})\n",
    "\n",
    "    \n",
    "for_wms['Order #'] = for_wms['Order #'].astype(str)\n",
    "wms_telkom['Order #'] = wms_telkom['Order #'].astype(str)\n",
    "\n",
    "temp_telkom = for_wms[for_wms['Order #'].isin(wms_telkom['Order #'])]\n",
    "\n",
    "# temp_telkom = temp_telkom.drop(['WH', 'Order #', 'SO STATUS', 'SKU WH', 'Warehouse Quantity'], axis = 1)\n",
    "temp_telkom['Order #'] = temp_telkom['Order #'].astype(str)\n",
    "wms_telkom['Order #'] = wms_telkom['Order #'].astype(str)\n",
    "\n",
    "temp_telkom['Real SKU'] = temp_telkom['Real SKU'].astype(str).str.replace('.0', '', regex = False)\n",
    "wms_telkom['SKU WH'] = wms_telkom['SKU WH'].astype(str)\n",
    "\n",
    "wms_telkom = wms_telkom.groupby(['Order #', 'SKU WH', 'SO STATUS', 'WH'], dropna = False)['Warehouse Quantity'].sum().reset_index()\n",
    "\n",
    "temp_telkom = temp_telkom.merge(wms_telkom.drop_duplicates(['Order #', 'SKU WH']), how = 'left', left_on = ['Order #', 'Real SKU'], right_on = ['Order #', 'SKU WH'])\n",
    "\n",
    "temp_telkom['Warehouse Quantity'] = temp_telkom['Warehouse Quantity'] * temp_telkom['Qty. Invoiced']/temp_telkom.groupby(['Order #', 'Real Nama Produk'])['Qty. Invoiced'].transform('sum')\n",
    "\n",
    "temp_telkom_bundle = temp_telkom[temp_telkom['Brand'] == 'Bundle']\n",
    "\n",
    "temp_buat_bundle = temp_telkom[temp_telkom['Warehouse Quantity'].notnull()].groupby(['Order #', 'Bundle Name']).agg({'WH' : 'first', 'SO STATUS' : 'first', 'Warehouse Quantity' : 'max', 'Qty. Invoiced' : 'max'}).reset_index()\n",
    "temp_buat_bundle['Warehouse Quantity'] = temp_buat_bundle['Warehouse Quantity']/temp_buat_bundle['Qty. Invoiced']\n",
    "temp_buat_bundle = temp_buat_bundle.drop('Qty. Invoiced', axis = 1)\n",
    "\n",
    "temp_telkom_bundle = temp_telkom_bundle.merge(temp_buat_bundle.drop_duplicates(['Order #', 'Bundle Name']), how = 'left', left_on = ['Order #', 'Product Name'], right_on = ['Order #', 'Bundle Name']).set_index(temp_telkom_bundle.index)\n",
    "temp_telkom_bundle['Warehouse Quantity_y'] = temp_telkom_bundle['Warehouse Quantity_y']*temp_telkom_bundle['Qty. Invoiced']\n",
    "\n",
    "temp_telkom['SO STATUS'][temp_telkom_bundle.index] = temp_telkom_bundle['SO STATUS_y']\n",
    "temp_telkom['WH'][temp_telkom_bundle.index] = temp_telkom_bundle['WH_y']\n",
    "temp_telkom['Warehouse Quantity'][temp_telkom_bundle.index] = temp_telkom_bundle['Warehouse Quantity_y']\n",
    "\n",
    "for_wms = for_wms[~for_wms['Order #'].isin(wms_telkom['Order #'])]\n",
    "for_wms = for_wms.append(temp_telkom, ignore_index = True, sort = False)\n",
    "\n",
    "wms_copy = wms_telkom.copy()\n",
    "wms_copy['SKU WH'] = wms_copy['SKU WH'].astype(str).str.replace('(E)', '', regex = False)\n",
    "\n",
    "aladin_wms = for_wms.copy()\n",
    "\n",
    "null_telkom = aladin_wms[(aladin_wms['WH'].isnull())\n",
    "            & \n",
    "            (aladin_wms['Order #'].isin(wms_telkom['Order #']))]\n",
    "\n",
    "null_telkom = null_telkom.drop(['WH', 'SO STATUS', 'Warehouse Quantity'], axis = 1)\n",
    "  \n",
    "null_telkom['Order #'] = null_telkom['Order #'].astype(str)\n",
    "wms_copy['Order #'] = wms_copy['Order #'].astype(str)\n",
    "\n",
    "null_telkom['Real SKU'] = null_telkom['Real SKU'].astype(str).str.replace('.0', '', regex = False)\n",
    "wms_copy['SKU WH'] = wms_copy['SKU WH'].astype(str).str.replace('.0', '', regex = False)\n",
    "\n",
    "null_telkom = null_telkom.merge(wms_copy.drop_duplicates(['Order #', 'SKU WH']), how = 'left', left_on = ['Order #', 'Real SKU'], right_on = ['Order #', 'SKU WH']).set_index(null_telkom.index)\n",
    "\n",
    "null_telkom['Warehouse Quantity'] = null_telkom['Warehouse Quantity'] * null_telkom['Qty. Invoiced']/null_telkom.groupby(['Order #', 'Real Nama Produk'])['Qty. Invoiced'].transform('sum')\n",
    "\n",
    "null_telkom_bundle = null_telkom[null_telkom['Brand'] == 'Bundle']\n",
    "\n",
    "temp_buat_bundle = null_telkom[null_telkom['Warehouse Quantity'].notnull()].groupby(['Order #', 'Bundle Name']).agg({'WH' : 'first', 'SO STATUS' : 'first', 'Warehouse Quantity' : 'max', 'Qty. Invoiced' : 'max'}).reset_index()\n",
    "temp_buat_bundle['Warehouse Quantity'] = temp_buat_bundle['Warehouse Quantity']/temp_buat_bundle['Qty. Invoiced']\n",
    "temp_buat_bundle = temp_buat_bundle.drop('Qty. Invoiced', axis = 1)\n",
    "\n",
    "null_telkom_bundle = null_telkom_bundle.merge(temp_buat_bundle.drop_duplicates(['Order #', 'Bundle Name']), how = 'left', left_on = ['Order #', 'Product Name'], right_on = ['Order #', 'Bundle Name']).set_index(null_telkom_bundle.index)\n",
    "null_telkom_bundle['Warehouse Quantity_y'] = null_telkom_bundle['Warehouse Quantity_y']*null_telkom_bundle['Qty. Invoiced']\n",
    "\n",
    "null_telkom['SO STATUS'][null_telkom_bundle.index] = null_telkom_bundle['SO STATUS_y']\n",
    "null_telkom['WH'][null_telkom_bundle.index] = null_telkom_bundle['WH_y']\n",
    "null_telkom['Warehouse Quantity'][null_telkom_bundle.index] = null_telkom_bundle['Warehouse Quantity_y']\n",
    "\n",
    "aladin_wms['SO STATUS'][null_telkom.index] = null_telkom['SO STATUS']\n",
    "aladin_wms['WH'][null_telkom.index] = null_telkom['WH']\n",
    "aladin_wms['Warehouse Quantity'][null_telkom.index] = null_telkom['Warehouse Quantity'] "
   ]
  },
  {
   "cell_type": "code",
   "execution_count": null,
   "metadata": {},
   "outputs": [],
   "source": []
  },
  {
   "cell_type": "code",
   "execution_count": null,
   "metadata": {},
   "outputs": [],
   "source": []
  },
  {
   "cell_type": "markdown",
   "metadata": {},
   "source": [
    "# Settlement"
   ]
  },
  {
   "cell_type": "code",
   "execution_count": 32,
   "metadata": {
    "tags": []
   },
   "outputs": [
    {
     "name": "stdout",
     "output_type": "stream",
     "text": [
      "03. Settlement AladinMall 2023.xlsx\n",
      "Settlement AladinMall- ok.xlsx\n",
      "SR Nutrimart - Periode Payment 24 Jan 2022.xlsx\n",
      "SR Nutrimart - Periode Pembayaran 2 Feb 2022.xlsx\n",
      "SR Nutrimart - Periode Pembayaran 28 Jan 2022.xlsx\n",
      "SR Nutrimart - Periode Pembayaran 9 Feb 2022.xlsx\n"
     ]
    }
   ],
   "source": [
    "### run-8\n",
    "\n",
    "import pandas as pd\n",
    "import numpy as np\n",
    "import os\n",
    "\n",
    "set_aladin = pd.DataFrame()\n",
    "for i in os.listdir(r'Settlement Project/Aladin Mall/Settlement/'):\n",
    "    if r'$' not in i:\n",
    "        temp = pd.read_excel(r'Settlement Project/Aladin Mall/Settlement/' + str(i))\n",
    "        temp['Source'] = i\n",
    "        print(i)\n",
    "        set_aladin = set_aladin.append(temp, ignore_index = True, sort = False)"
   ]
  },
  {
   "cell_type": "code",
   "execution_count": 33,
   "metadata": {
    "tags": []
   },
   "outputs": [],
   "source": [
    "## run - 9\n",
    "set_aladin = set_aladin[set_aladin['order_ids'].notnull()]"
   ]
  },
  {
   "cell_type": "code",
   "execution_count": 34,
   "metadata": {
    "tags": []
   },
   "outputs": [],
   "source": [
    "## run -10\n",
    "set_aladin['order_ids'] = set_aladin['order_ids'].astype(str).str.replace('.0', '', regex = False)\n",
    "set_aladin['sku'] = set_aladin['sku'].astype(str).str.replace('.0', '', regex = False)"
   ]
  },
  {
   "cell_type": "code",
   "execution_count": 35,
   "metadata": {
    "tags": []
   },
   "outputs": [],
   "source": [
    "# run -11\n",
    "set_aladin = set_aladin.drop_duplicates(['order_ids', 'sku'])"
   ]
  },
  {
   "cell_type": "code",
   "execution_count": null,
   "metadata": {},
   "outputs": [],
   "source": []
  },
  {
   "cell_type": "code",
   "execution_count": null,
   "metadata": {
    "scrolled": true
   },
   "outputs": [],
   "source": []
  },
  {
   "cell_type": "code",
   "execution_count": 15,
   "metadata": {
    "scrolled": true,
    "tags": []
   },
   "outputs": [
    {
     "data": {
      "text/html": [
       "<div>\n",
       "<style scoped>\n",
       "    .dataframe tbody tr th:only-of-type {\n",
       "        vertical-align: middle;\n",
       "    }\n",
       "\n",
       "    .dataframe tbody tr th {\n",
       "        vertical-align: top;\n",
       "    }\n",
       "\n",
       "    .dataframe thead th {\n",
       "        text-align: right;\n",
       "    }\n",
       "</style>\n",
       "<table border=\"1\" class=\"dataframe\">\n",
       "  <thead>\n",
       "    <tr style=\"text-align: right;\">\n",
       "      <th></th>\n",
       "      <th>purchase_order_id</th>\n",
       "      <th>purchase_date</th>\n",
       "      <th>order_ids</th>\n",
       "      <th>order_dates</th>\n",
       "      <th>shipping_name</th>\n",
       "      <th>vendor_name</th>\n",
       "      <th>3PL_NAME</th>\n",
       "      <th>qty</th>\n",
       "      <th>status</th>\n",
       "      <th>deliver_date</th>\n",
       "      <th>product_name</th>\n",
       "      <th>product_price</th>\n",
       "      <th>no_abw_or_track_number</th>\n",
       "      <th>jenis_shippment</th>\n",
       "      <th>sku</th>\n",
       "      <th>Voucher Name</th>\n",
       "      <th>voucher Tanggungan Seller</th>\n",
       "      <th>Buttom Price (Product Price - Voucher)</th>\n",
       "      <th>Buttom Price Flash sale</th>\n",
       "      <th>Shipping cost per item</th>\n",
       "      <th>Total Price (Qty x Prd)</th>\n",
       "      <th>Margin %</th>\n",
       "      <th>Margin Value</th>\n",
       "      <th>OS to Pay</th>\n",
       "      <th>Ongkir To Pay</th>\n",
       "      <th>Total Ammount To be Paid</th>\n",
       "      <th>Paid / Hold / Not Paid</th>\n",
       "      <th>Paid Date</th>\n",
       "      <th>Tanggal Transaksi</th>\n",
       "      <th>Keterangan</th>\n",
       "      <th>Cabang</th>\n",
       "      <th>Jumlah</th>\n",
       "      <th>Cust Name</th>\n",
       "      <th>Unnamed: 33</th>\n",
       "      <th>Tanggal Transaksi.1</th>\n",
       "      <th>Keterangan.1</th>\n",
       "      <th>Cabang.1</th>\n",
       "      <th>Jumlah.1</th>\n",
       "      <th>Cust Name.1</th>\n",
       "      <th>Source</th>\n",
       "      <th>shipping_price</th>\n",
       "      <th>total_cost</th>\n",
       "      <th>status_order</th>\n",
       "      <th>last_date_order</th>\n",
       "      <th>Periode TRX</th>\n",
       "      <th>Unnamed: 22</th>\n",
       "      <th>Unnamed: 23</th>\n",
       "      <th>Total Price (Qty x Prd).1</th>\n",
       "      <th>Unnamed: 30</th>\n",
       "      <th>Unnamed: 31</th>\n",
       "      <th>Unnamed: 32</th>\n",
       "      <th>Unnamed: 34</th>\n",
       "      <th>Unnamed: 35</th>\n",
       "      <th>method</th>\n",
       "      <th>statement</th>\n",
       "    </tr>\n",
       "  </thead>\n",
       "  <tbody>\n",
       "  </tbody>\n",
       "</table>\n",
       "</div>"
      ],
      "text/plain": [
       "Empty DataFrame\n",
       "Columns: [purchase_order_id, purchase_date, order_ids, order_dates, shipping_name, vendor_name, 3PL_NAME, qty, status, deliver_date, product_name, product_price, no_abw_or_track_number, jenis_shippment, sku, Voucher Name, voucher Tanggungan Seller, Buttom Price (Product Price - Voucher), Buttom Price Flash sale, Shipping cost per item, Total Price (Qty x Prd), Margin %, Margin Value, OS to Pay, Ongkir To Pay, Total Ammount To be Paid, Paid / Hold / Not Paid, Paid Date, Tanggal Transaksi, Keterangan, Cabang, Jumlah, Cust Name, Unnamed: 33, Tanggal Transaksi.1, Keterangan.1, Cabang.1, Jumlah.1, Cust Name.1, Source, shipping_price, total_cost, status_order, last_date_order, Periode TRX, Unnamed: 22, Unnamed: 23, Total Price (Qty x Prd).1, Unnamed: 30, Unnamed: 31, Unnamed: 32, Unnamed: 34, Unnamed: 35, method, statement]\n",
       "Index: []"
      ]
     },
     "execution_count": 15,
     "metadata": {},
     "output_type": "execute_result"
    }
   ],
   "source": [
    "### optional\n",
    "set_aladin[set_aladin.duplicated(['order_ids', 'sku'], keep = 'first')]"
   ]
  },
  {
   "cell_type": "code",
   "execution_count": null,
   "metadata": {},
   "outputs": [],
   "source": []
  },
  {
   "cell_type": "code",
   "execution_count": 36,
   "metadata": {
    "tags": []
   },
   "outputs": [],
   "source": [
    "## run -12 \n",
    "set_aladin['Comfee Prop'] = set_aladin['Margin Value']\n",
    "set_aladin['Total Produk Prop'] = set_aladin['Total Ammount To be Paid']"
   ]
  },
  {
   "cell_type": "code",
   "execution_count": 37,
   "metadata": {
    "tags": []
   },
   "outputs": [],
   "source": [
    "## run - 13\n",
    "set_aladin = set_aladin[['order_ids', 'sku', 'Comfee Prop', 'Total Produk Prop']]"
   ]
  },
  {
   "cell_type": "code",
   "execution_count": 38,
   "metadata": {
    "tags": []
   },
   "outputs": [],
   "source": [
    "# run -14\n",
    "\n",
    "for_wms['Order #'] = for_wms['Order #'].astype(str)\n",
    "for_wms['Total Net Before PPN'] = for_wms['Total Net']/1.11"
   ]
  },
  {
   "cell_type": "code",
   "execution_count": 39,
   "metadata": {
    "tags": []
   },
   "outputs": [
    {
     "name": "stderr",
     "output_type": "stream",
     "text": [
      "C:\\Users\\timotius.giovandi\\AppData\\Local\\Programs\\Python\\Python37\\lib\\site-packages\\ipykernel_launcher.py:5: SettingWithCopyWarning: \n",
      "A value is trying to be set on a copy of a slice from a DataFrame.\n",
      "Try using .loc[row_indexer,col_indexer] = value instead\n",
      "\n",
      "See the caveats in the documentation: https://pandas.pydata.org/pandas-docs/stable/user_guide/indexing.html#returning-a-view-versus-a-copy\n",
      "  \"\"\"\n",
      "C:\\Users\\timotius.giovandi\\AppData\\Local\\Programs\\Python\\Python37\\lib\\site-packages\\ipykernel_launcher.py:24: SettingWithCopyWarning: \n",
      "A value is trying to be set on a copy of a slice from a DataFrame.\n",
      "Try using .loc[row_indexer,col_indexer] = value instead\n",
      "\n",
      "See the caveats in the documentation: https://pandas.pydata.org/pandas-docs/stable/user_guide/indexing.html#returning-a-view-versus-a-copy\n"
     ]
    }
   ],
   "source": [
    "## run -15\n",
    "bundling = for_wms[for_wms['Bundle Name'].notnull()]\n",
    "real_trx = for_wms[for_wms['Bundle Name'].isnull()]\n",
    "\n",
    "real_trx['Order #'] = real_trx['Order #'].astype(str)\n",
    "set_aladin['order_ids'] = set_aladin['order_ids'].astype(str)\n",
    "\n",
    "real_trx = real_trx.merge(set_aladin, how = 'left', left_on = ['Order #', 'Real SKU'], right_on = ['order_ids', 'sku'])\n",
    "\n",
    "non_prop = real_trx[real_trx['Brand'].isin(['Bonus Produk', 'Gimmick'])]\n",
    "real_trx = real_trx[~real_trx['Brand'].isin(['Bonus Produk', 'Gimmick'])]\n",
    "\n",
    "# real_trx['Total Produk Prop'] = real_trx['Total Produk'].fillna(0) * real_trx['Total Net Before PPN']/real_trx.groupby(['Order #'])['Total Net Before PPN'].transform('sum')\n",
    "# real_trx['Comfee Prop'] = real_trx['Comfee'].fillna(0) * real_trx['Total Net Before PPN']/real_trx.groupby(['Order #'])['Total Net Before PPN'].transform('sum')\n",
    "\n",
    "non_prop['Total Produk Prop'] = 0\n",
    "non_prop['Comfee Prop'] = 0\n",
    "\n",
    "# display(real_trx[real_trx['Order #']=='1045065239'])#[['Total Produk Prop']]\n",
    "\n",
    "\n",
    "real_trx = real_trx.append(non_prop, ignore_index = True, sort = False)\n",
    "\n",
    "bundling['Order #'] = bundling['Order #'].astype(str)\n",
    "\n",
    "bundling = bundling.merge(real_trx[['Order #', 'Product Name', 'Total Produk Prop', 'Comfee Prop']].drop_duplicates(['Order #', 'Product Name']), how = 'left', left_on = ['Order #', 'Bundle Name'], right_on = ['Order #', 'Product Name'])\n",
    "\n",
    "non_prop = bundling[bundling['Brand'].isin(['Bonus Produk', 'Gimmick'])]\n",
    "bundling = bundling[~bundling['Brand'].isin(['Bonus Produk', 'Gimmick'])]\n",
    "# bundling['Total Produk Prop']=bundling['Total Produk Prop'].astype(float)\n",
    "\n",
    "bundling['Total Produk Prop'] = bundling['Total Produk Prop'].fillna(0) * bundling['Total Net Before PPN']/bundling.groupby(['Order #', 'Bundle Name'])['Total Net Before PPN'].transform('sum')\n",
    "bundling['Comfee Prop'] = bundling['Comfee Prop'].fillna(0) * bundling['Total Net Before PPN']/bundling.groupby(['Order #', 'Bundle Name'])['Total Net Before PPN'].transform('sum')\n",
    "\n",
    "non_prop['Total Produk Prop'] = 0\n",
    "non_prop['Comfee Prop'] = 0\n",
    "\n",
    "bundling = bundling.append(non_prop, ignore_index = True, sort = False)\n",
    "\n",
    "# real_trx = real_trx.drop(['SKU_y', 'Real SKU_y', 'SKU_y'], axis = 1)\n",
    "# real_trx = real_trx.rename(columns = {'SKU_x' : 'SKU'})\n",
    "\n",
    "# bundling = bundling.drop(['SKU_y', 'Real SKU_y', 'SKU_y', 'Product Name_y'], axis = 1)\n",
    "# bundling = bundling.rename(columns = {'SKU_x' : 'SKU', 'Product Name_x' : 'Product Name'})\n",
    "\n",
    "total_trx = real_trx.append(bundling, ignore_index = True, sort = False)"
   ]
  },
  {
   "cell_type": "code",
   "execution_count": null,
   "metadata": {},
   "outputs": [],
   "source": []
  },
  {
   "cell_type": "code",
   "execution_count": 40,
   "metadata": {
    "scrolled": true,
    "tags": []
   },
   "outputs": [],
   "source": [
    "# total_trx[total_trx['Order #'].isin(set_aladin['order_ids'])][['Order #', 'Real SKU', 'Product Name', 'Bundle Name', 'Total Produk Prop']]\n",
    "# total_trx[total_trx['Order #']=='1045067423'][['Order #', 'Real SKU', 'Product Name', 'Bundle Name', 'Total Produk Prop']]"
   ]
  },
  {
   "cell_type": "code",
   "execution_count": null,
   "metadata": {},
   "outputs": [],
   "source": []
  },
  {
   "cell_type": "code",
   "execution_count": 41,
   "metadata": {
    "tags": []
   },
   "outputs": [],
   "source": [
    "# pd.options.display.max_columns = 150"
   ]
  },
  {
   "cell_type": "code",
   "execution_count": 42,
   "metadata": {
    "tags": []
   },
   "outputs": [],
   "source": [
    "# real_trx[['Order #', 'Product Name', 'Total Produk Prop', 'Comfee Prop']].drop_duplicates(['Order #', 'Product Name'])"
   ]
  },
  {
   "cell_type": "code",
   "execution_count": 43,
   "metadata": {
    "tags": []
   },
   "outputs": [],
   "source": [
    "# bundling.merge(real_trx[['Order #', 'Product Name', 'Total Produk Prop', 'Comfee Prop']].drop_duplicates(['Order #', 'Product Name']), how = 'left', left_on = ['Order #', 'Bundle Name'], right_on = ['Order #', 'Product Name'])"
   ]
  },
  {
   "cell_type": "code",
   "execution_count": 44,
   "metadata": {
    "tags": []
   },
   "outputs": [
    {
     "name": "stderr",
     "output_type": "stream",
     "text": [
      "C:\\Users\\timotius.giovandi\\AppData\\Local\\Programs\\Python\\Python37\\lib\\site-packages\\ipykernel_launcher.py:5: SettingWithCopyWarning: \n",
      "A value is trying to be set on a copy of a slice from a DataFrame\n",
      "\n",
      "See the caveats in the documentation: https://pandas.pydata.org/pandas-docs/stable/user_guide/indexing.html#returning-a-view-versus-a-copy\n",
      "  \"\"\"\n",
      "C:\\Users\\timotius.giovandi\\AppData\\Local\\Programs\\Python\\Python37\\lib\\site-packages\\pandas\\core\\indexing.py:670: SettingWithCopyWarning: \n",
      "A value is trying to be set on a copy of a slice from a DataFrame\n",
      "\n",
      "See the caveats in the documentation: https://pandas.pydata.org/pandas-docs/stable/user_guide/indexing.html#returning-a-view-versus-a-copy\n",
      "  iloc._setitem_with_indexer(indexer, value)\n"
     ]
    }
   ],
   "source": [
    "### run -16\n",
    "total_trx['Paid'] = np.nan\n",
    "\n",
    "indeks = total_trx[total_trx['Order #'].isin(set_aladin['order_ids'])].index.to_list()\n",
    "total_trx['Paid'][indeks] = 'Paid'\n",
    "\n",
    "total_trx['Paid'] = total_trx['Paid'].fillna('Unpaid')"
   ]
  },
  {
   "cell_type": "code",
   "execution_count": 45,
   "metadata": {
    "tags": []
   },
   "outputs": [],
   "source": [
    "# pd.options.display.max_columns = 150"
   ]
  },
  {
   "cell_type": "code",
   "execution_count": 46,
   "metadata": {
    "scrolled": true,
    "tags": []
   },
   "outputs": [],
   "source": [
    "## run -17\n",
    "total_trx['Product Name'] = total_trx['Product Name'].fillna(total_trx['Product Name_x'])\n",
    "total_trx = total_trx.drop(['Product Name_x', 'Product Name_y'], axis = 1)"
   ]
  },
  {
   "cell_type": "code",
   "execution_count": 47,
   "metadata": {
    "tags": []
   },
   "outputs": [],
   "source": [
    "### run -18\n",
    "total_trx['Total Produk Prop Adj'] = total_trx['Total Produk Prop']/1.11\n",
    "total_trx['BTL Cost'] = (total_trx['Total Produk Prop Adj']) - total_trx['Total Net Before PPN']"
   ]
  },
  {
   "cell_type": "code",
   "execution_count": 48,
   "metadata": {
    "tags": []
   },
   "outputs": [],
   "source": [
    "## run -19\n",
    "total_trx['Total Selcen'] = total_trx['Total']\n",
    "total_trx['Order Status_y'] = total_trx['Order Status']"
   ]
  },
  {
   "cell_type": "code",
   "execution_count": 49,
   "metadata": {
    "tags": []
   },
   "outputs": [],
   "source": [
    "## run 20\n",
    "\n",
    "total_trx_full = total_trx[['Order #',\n",
    " 'Sales Order ID',\n",
    " 'AWB',\n",
    " 'Paid Date',\n",
    " 'Order date',\n",
    " 'Week',\n",
    " 'Date',\n",
    " 'Month',\n",
    " 'Quarter',\n",
    " 'Year',\n",
    " 'Channel',\n",
    " 'SKU',\n",
    " 'Brand',\n",
    " 'Product Name',\n",
    " 'Bundle Name',\n",
    " 'Price List NFI',\n",
    " 'Qty. Invoiced',\n",
    " 'Total Net',\n",
    " 'Sub Brand',\n",
    " 'Real SKU',\n",
    " 'Real Nama Produk',\n",
    " 'Parent Item',\n",
    " 'Parent SKU',\n",
    " 'Bundle Flag',\n",
    " 'Shipping Courier',\n",
    " 'Store',\n",
    " 'True datetime',\n",
    " 'Store Type',\n",
    " 'Region Group',\n",
    " 'PL Before PPN',\n",
    " 'Total Net Before PPN',\n",
    " 'Category Baru',\n",
    " 'Exported Parent Item',\n",
    " 'Total Selcen',\n",
    " 'Order Status_y',\n",
    " 'Paid',\n",
    " 'SO STATUS',\n",
    " 'WH',\n",
    " 'Warehouse Quantity',\n",
    " 'Total Produk Prop',\n",
    " 'BTL Cost',\n",
    " 'Total Produk Prop Adj', \n",
    " 'Comfee Prop'\n",
    " ]]\n",
    "\n",
    "total_trx_full = total_trx_full.rename(columns = {\n",
    "    'Total Selcen' : 'Total Seller Centre', \n",
    "    'Order Status_y' : 'Order Status Seller Centre',\n",
    "    'SO STATUS' : 'Status Gudang'\n",
    "})"
   ]
  },
  {
   "cell_type": "code",
   "execution_count": null,
   "metadata": {},
   "outputs": [],
   "source": []
  },
  {
   "cell_type": "code",
   "execution_count": null,
   "metadata": {},
   "outputs": [],
   "source": []
  },
  {
   "cell_type": "code",
   "execution_count": 50,
   "metadata": {
    "tags": []
   },
   "outputs": [
    {
     "name": "stderr",
     "output_type": "stream",
     "text": [
      "C:\\Users\\timotius.giovandi\\AppData\\Local\\Programs\\Python\\Python37\\lib\\site-packages\\ipykernel_launcher.py:19: SettingWithCopyWarning: \n",
      "A value is trying to be set on a copy of a slice from a DataFrame\n",
      "\n",
      "See the caveats in the documentation: https://pandas.pydata.org/pandas-docs/stable/user_guide/indexing.html#returning-a-view-versus-a-copy\n",
      "C:\\Users\\timotius.giovandi\\AppData\\Local\\Programs\\Python\\Python37\\lib\\site-packages\\ipykernel_launcher.py:27: SettingWithCopyWarning: \n",
      "A value is trying to be set on a copy of a slice from a DataFrame\n",
      "\n",
      "See the caveats in the documentation: https://pandas.pydata.org/pandas-docs/stable/user_guide/indexing.html#returning-a-view-versus-a-copy\n"
     ]
    },
    {
     "data": {
      "text/plain": [
       "Year    Month  Paid  Paid April\n",
       "2023.0  April  Paid  Unpaid        6\n",
       "                     NaN           6\n",
       "Name: Order #, dtype: int64"
      ]
     },
     "execution_count": 50,
     "metadata": {},
     "output_type": "execute_result"
    }
   ],
   "source": [
    "### run -21 ganti file bulan lalu ganti var prev_month\n",
    "\n",
    "import pandas as pd\n",
    "\n",
    "prev = pd.read_csv(r\"Settlement Project\\Backup\\Realisasi Apr 2023\\Final Result\\Raw Unpivoted\\CSV\\Running AladinMall Apr 2023.csv\", sep = ';')\n",
    "prev_month = 'April'\n",
    "prev = prev.rename(columns = {'Paid' : 'Paid ' + prev_month})\n",
    "# prev['Qty. Invoiced'] = prev['Qty. Invoiced'].astype(float)\n",
    "current = total_trx_full.copy()\n",
    "# current = pd.read_csv(\"D:\\Backup\\Backup 26 Mei\\Settlement Project Backup\\Realisasi Januari 2022\\Final Result\\Running Nutrimart Jan Jan 2022.csv\", sep = ';')\n",
    "\n",
    "prev['Order #'] = prev['Order #'].astype(str)\n",
    "prev['Real SKU'] = prev['Real SKU'].astype(str)\n",
    "current['Order #'] = current['Order #'].astype(str)\n",
    "current['Real SKU'] = current['Real SKU'].astype(str)\n",
    "\n",
    "prev['Bundle Name'] = prev['Bundle Name'].astype(str)\n",
    "indeks = prev[prev['Bundle Name'] == 'nan'].index.to_list()\n",
    "prev['Bundle Name'][indeks] = np.nan\n",
    "\n",
    "merged = current.merge(prev[['Order #','Real SKU', 'Paid ' + prev_month, 'Bundle Name']].drop_duplicates(['Order #', 'Real SKU', 'Bundle Name']), how = 'left', on = ['Order #', 'Real SKU', 'Bundle Name'])\n",
    "import numpy as np\n",
    "\n",
    "merged['Paid Beda'] = np.nan\n",
    "\n",
    "indeks = merged[merged['Paid'] != merged['Paid ' + prev_month]].index.to_list()\n",
    "merged['Paid Beda'][indeks] = 'Beda'\n",
    "\n",
    "merged['Paid Beda'] = merged['Paid Beda'].fillna('Sama')\n",
    "# merged[merged['Paid Beda'] == 'Beda'][['Order #','Brand','Real SKU','Month', 'Paid_x', 'Paid_y', 'Paid Beda']]\n",
    "merged[merged['Paid Beda'] == 'Beda'].groupby(['Year', 'Month', 'Paid', 'Paid ' + prev_month], dropna = False)['Order #'].nunique()"
   ]
  },
  {
   "cell_type": "code",
   "execution_count": 51,
   "metadata": {
    "tags": []
   },
   "outputs": [],
   "source": [
    "merged = merged.rename(columns = {'Paid' : 'Paid May'})\n",
    "# merged.to_csv(r'D:\\Backup\\Backup 26 Mei\\Settlement Project Backup/Realisasi April 2022/Final Result/Running AladinMall Apr 22 Rev 1.csv', sep = ';', index = False)"
   ]
  },
  {
   "cell_type": "code",
   "execution_count": null,
   "metadata": {
    "tags": []
   },
   "outputs": [],
   "source": []
  },
  {
   "cell_type": "code",
   "execution_count": 52,
   "metadata": {
    "tags": []
   },
   "outputs": [],
   "source": [
    "merged.to_csv(r'Settlement Project\\Backup\\Realisasi May 2023\\Final Result\\Raw Unpivoted\\CSV/Running AladinMall May 2023.csv', sep = ';', index = False)"
   ]
  },
  {
   "cell_type": "code",
   "execution_count": 53,
   "metadata": {
    "tags": []
   },
   "outputs": [],
   "source": [
    "merged.to_excel(r'Settlement Project\\Backup\\Realisasi May 2023\\Final Result\\Raw Unpivoted\\Excel/Running AladinMall May 2023.xlsx', index = False)"
   ]
  },
  {
   "cell_type": "code",
   "execution_count": null,
   "metadata": {},
   "outputs": [],
   "source": []
  },
  {
   "cell_type": "code",
   "execution_count": null,
   "metadata": {},
   "outputs": [],
   "source": []
  },
  {
   "cell_type": "code",
   "execution_count": null,
   "metadata": {},
   "outputs": [],
   "source": []
  },
  {
   "cell_type": "code",
   "execution_count": null,
   "metadata": {},
   "outputs": [],
   "source": []
  },
  {
   "cell_type": "code",
   "execution_count": 23,
   "metadata": {},
   "outputs": [],
   "source": [
    "pricelaz=pd.read_excel(\"D:\\Downloads\\pricestock19566export1656468900963_0629-10-15-00.xlsx\")"
   ]
  },
  {
   "cell_type": "code",
   "execution_count": 26,
   "metadata": {},
   "outputs": [],
   "source": [
    "pricelaz['SellerSKU']=pricelaz['SellerSKU'].astype(str)"
   ]
  },
  {
   "cell_type": "code",
   "execution_count": 34,
   "metadata": {},
   "outputs": [
    {
     "data": {
      "text/plain": [
       "Index(['Product ID', 'catId', '*Nama Produk', 'currencyCode', 'sku.skuId',\n",
       "       'Variations Combo', 'Shop SKU', 'status', '*Stock', '*Price',\n",
       "       'SpecialPrice', 'SpecialPrice Start', 'SpecialPrice End', 'SellerSKU',\n",
       "       'tr(s-wb-product@md5key)'],\n",
       "      dtype='object')"
      ]
     },
     "execution_count": 34,
     "metadata": {},
     "output_type": "execute_result"
    }
   ],
   "source": [
    "pricelaz.columns"
   ]
  },
  {
   "cell_type": "code",
   "execution_count": 28,
   "metadata": {},
   "outputs": [],
   "source": [
    "priceshopee=pd.read_excel(\"D:\\Downloads\\Promo Plan 7-7 Shopee.xlsx\")"
   ]
  },
  {
   "cell_type": "code",
   "execution_count": 31,
   "metadata": {},
   "outputs": [],
   "source": [
    "priceshopee['SKU NFI']=priceshopee['SKU NFI'].astype(str)"
   ]
  },
  {
   "cell_type": "code",
   "execution_count": 33,
   "metadata": {},
   "outputs": [],
   "source": [
    "priceshopee['Harga Reg']=priceshopee['Harga 7-7']+500"
   ]
  },
  {
   "cell_type": "code",
   "execution_count": null,
   "metadata": {},
   "outputs": [],
   "source": [
    "for item in priceshopee['SKU NFI'].unique():\n",
    "    print(item)\n",
    "    harganew=priceshopee[priceshopee['SKU NFI']==item]['Harga Reg'].mean()\n",
    "    pricelaz.loc[pricelaz['SellerSKU']==item,'SpecialPrice']=harganew\n",
    "    "
   ]
  },
  {
   "cell_type": "code",
   "execution_count": 42,
   "metadata": {},
   "outputs": [],
   "source": [
    "pricelaz.to_excel('adjust to 77 shopee.xlsx',index=False)"
   ]
  },
  {
   "cell_type": "code",
   "execution_count": 41,
   "metadata": {},
   "outputs": [
    {
     "data": {
      "text/html": [
       "<div>\n",
       "<style scoped>\n",
       "    .dataframe tbody tr th:only-of-type {\n",
       "        vertical-align: middle;\n",
       "    }\n",
       "\n",
       "    .dataframe tbody tr th {\n",
       "        vertical-align: top;\n",
       "    }\n",
       "\n",
       "    .dataframe thead th {\n",
       "        text-align: right;\n",
       "    }\n",
       "</style>\n",
       "<table border=\"1\" class=\"dataframe\">\n",
       "  <thead>\n",
       "    <tr style=\"text-align: right;\">\n",
       "      <th></th>\n",
       "      <th>SKU NFI</th>\n",
       "      <th>Product Name</th>\n",
       "      <th>Harga 7-7</th>\n",
       "      <th>Harga Reg</th>\n",
       "    </tr>\n",
       "  </thead>\n",
       "  <tbody>\n",
       "    <tr>\n",
       "      <th>191</th>\n",
       "      <td>2104405P2</td>\n",
       "      <td>Twin Pack - Tropicana Slim Minyak Kanola 946ml...</td>\n",
       "      <td>129900</td>\n",
       "      <td>130400</td>\n",
       "    </tr>\n",
       "    <tr>\n",
       "      <th>192</th>\n",
       "      <td>2104405P2</td>\n",
       "      <td>Twin Pack - Tropicana Slim Minyak Kanola 946ml...</td>\n",
       "      <td>129900</td>\n",
       "      <td>130400</td>\n",
       "    </tr>\n",
       "  </tbody>\n",
       "</table>\n",
       "</div>"
      ],
      "text/plain": [
       "       SKU NFI                                       Product Name  Harga 7-7  \\\n",
       "191  2104405P2  Twin Pack - Tropicana Slim Minyak Kanola 946ml...     129900   \n",
       "192  2104405P2  Twin Pack - Tropicana Slim Minyak Kanola 946ml...     129900   \n",
       "\n",
       "     Harga Reg  \n",
       "191     130400  \n",
       "192     130400  "
      ]
     },
     "execution_count": 41,
     "metadata": {},
     "output_type": "execute_result"
    }
   ],
   "source": [
    "priceshopee[priceshopee['SKU NFI']=='2104405P2']"
   ]
  },
  {
   "cell_type": "code",
   "execution_count": null,
   "metadata": {},
   "outputs": [],
   "source": []
  }
 ],
 "metadata": {
  "kernelspec": {
   "display_name": "Python 3 (ipykernel)",
   "language": "python",
   "name": "python3"
  },
  "language_info": {
   "codemirror_mode": {
    "name": "ipython",
    "version": 3
   },
   "file_extension": ".py",
   "mimetype": "text/x-python",
   "name": "python",
   "nbconvert_exporter": "python",
   "pygments_lexer": "ipython3",
   "version": "3.7.3"
  }
 },
 "nbformat": 4,
 "nbformat_minor": 4
}
